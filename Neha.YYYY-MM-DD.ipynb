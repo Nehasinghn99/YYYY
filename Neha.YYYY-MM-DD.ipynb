{
 "cells": [
  {
   "cell_type": "code",
   "execution_count": 1,
   "metadata": {},
   "outputs": [],
   "source": [
    "from collections import deque, OrderedDict\n",
    "from dateutil import parser\n",
    "i_dict={'1970-01-01': 4,\n",
    " '1970-01-02': 4,\n",
    " '1970-01-03': 6,\n",
    " '1970-01-04': 8,\n",
    " '1970-01-05': 2,\n",
    " '1970-01-06': -6,\n",
    " '1970-01-07': 2,\n",
    " '1970-01-08': -2}"
   ]
  },
  {
   "cell_type": "code",
   "execution_count": 2,
   "metadata": {},
   "outputs": [],
   "source": [
    "l=[]\n",
    "for keys in i_dict:\n",
    "    lk=parser.parse(keys).strftime(\"%a\")\n",
    "    l.append(lk)\n",
    "    "
   ]
  },
  {
   "cell_type": "code",
   "execution_count": 3,
   "metadata": {},
   "outputs": [],
   "source": [
    "l2=list(i_dict.values())\n",
    "    "
   ]
  },
  {
   "cell_type": "code",
   "execution_count": 4,
   "metadata": {},
   "outputs": [
    {
     "data": {
      "text/plain": [
       "[4, 4, 6, 8, 2, -6, 2, -2]"
      ]
     },
     "execution_count": 4,
     "metadata": {},
     "output_type": "execute_result"
    }
   ],
   "source": [
    "l2\n"
   ]
  },
  {
   "cell_type": "code",
   "execution_count": 5,
   "metadata": {},
   "outputs": [],
   "source": [
    "o_dict = {}\n",
    "keys = l\n",
    "values = l2\n",
    "for i in range(len(keys)):\n",
    "        o_dict[keys[i]] = values[i]\n",
    "res=OrderedDict(o_dict)"
   ]
  },
  {
   "cell_type": "code",
   "execution_count": 6,
   "metadata": {},
   "outputs": [],
   "source": [
    "weeks=[ 'Mon', 'Tue', 'Tue', 'Wed', 'Thu', 'Fri', 'Sat','Sun']\n",
    "res =OrderedDict(sorted(o_dict.items(),key =lambda x:weeks.index(x[0])))"
   ]
  },
  {
   "cell_type": "code",
   "execution_count": 8,
   "metadata": {},
   "outputs": [],
   "source": [
    "output=dict(res)"
   ]
  },
  {
   "cell_type": "code",
   "execution_count": null,
   "metadata": {},
   "outputs": [],
   "source": []
  }
 ],
 "metadata": {
  "kernelspec": {
   "display_name": "Python 3",
   "language": "python",
   "name": "python3"
  },
  "language_info": {
   "codemirror_mode": {
    "name": "ipython",
    "version": 3
   },
   "file_extension": ".py",
   "mimetype": "text/x-python",
   "name": "python",
   "nbconvert_exporter": "python",
   "pygments_lexer": "ipython3",
   "version": "3.7.3"
  }
 },
 "nbformat": 4,
 "nbformat_minor": 5
}
